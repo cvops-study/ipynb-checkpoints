{
  "nbformat": 4,
  "nbformat_minor": 0,
  "metadata": {
    "colab": {
      "provenance": [],
      "gpuType": "T4",
      "authorship_tag": "ABX9TyOhvKU93FJLaXGnuPWdhhct",
      "include_colab_link": true
    },
    "kernelspec": {
      "name": "python3",
      "display_name": "Python 3"
    },
    "language_info": {
      "name": "python"
    },
    "accelerator": "GPU"
  },
  "cells": [
    {
      "cell_type": "markdown",
      "metadata": {
        "id": "view-in-github",
        "colab_type": "text"
      },
      "source": [
        "<a href=\"https://colab.research.google.com/github/pfa-cvops/ipynb-checkpoints/blob/dev/dsmil_test.ipynb\" target=\"_parent\"><img src=\"https://colab.research.google.com/assets/colab-badge.svg\" alt=\"Open In Colab\"/></a>"
      ]
    },
    {
      "cell_type": "code",
      "execution_count": null,
      "metadata": {
        "colab": {
          "base_uri": "https://localhost:8080/"
        },
        "id": "o5qlZCLpQC4i",
        "outputId": "3a6de54b-94a7-4e72-d34e-0adc5ee0f0f5"
      },
      "outputs": [
        {
          "output_type": "stream",
          "name": "stdout",
          "text": [
            "Cloning into 'dsmil-wsi'...\n",
            "remote: Enumerating objects: 614, done.\u001b[K\n",
            "remote: Counting objects: 100% (155/155), done.\u001b[K\n",
            "remote: Compressing objects: 100% (45/45), done.\u001b[K\n",
            "remote: Total 614 (delta 120), reused 110 (delta 110), pack-reused 459\u001b[K\n",
            "Receiving objects: 100% (614/614), 48.61 MiB | 26.24 MiB/s, done.\n",
            "Resolving deltas: 100% (338/338), done.\n"
          ]
        }
      ],
      "source": [
        "0! git clone https://github.com/binli123/dsmil-wsi"
      ]
    },
    {
      "cell_type": "code",
      "source": [
        "! python dsmil-wsi/download.py --dataset=mil"
      ],
      "metadata": {
        "colab": {
          "base_uri": "https://localhost:8080/"
        },
        "id": "H1gfDwTtQX7v",
        "outputId": "1c8da8ce-4bc0-453d-c11e-fd113025b207"
      },
      "execution_count": null,
      "outputs": [
        {
          "output_type": "stream",
          "name": "stdout",
          "text": [
            "downloading MIL benchmark datasets\n",
            "arvv7f1k8c2m8e2hugqltxgt9zbbpbh2.zip: 4.94MB [00:01, 2.98MB/s]                \n"
          ]
        }
      ]
    },
    {
      "cell_type": "code",
      "source": [
        "! python dsmil-wsi/train_mil.py"
      ],
      "metadata": {
        "colab": {
          "base_uri": "https://localhost:8080/"
        },
        "id": "EYaw44VZQt-O",
        "outputId": "b0336ec1-7d5c-4ccd-ac59-be0cd29d72d4"
      },
      "execution_count": null,
      "outputs": [
        {
          "output_type": "stream",
          "name": "stdout",
          "text": [
            "Dataset: musk1\n",
            "Start 10-fold cross validation: fold 0 \n",
            " Epoch [40/40] train loss: 0.3401, test loss: 0.4362, accuracy: 0.7778, aug score: 0.8500, precision: 0.6667, recall: 1.0000, fscore: 0.8000 \n",
            " Optimal accuracy: 0.8889 \n",
            "Start 10-fold cross validation: fold 1 \n",
            " Epoch [40/40] train loss: 0.2995, test loss: 0.7578, accuracy: 0.8889, aug score: 0.7778, precision: 1.0000, recall: 0.6667, fscore: 0.8000 \n",
            " Optimal accuracy: 0.8889 \n",
            "Start 10-fold cross validation: fold 2 \n",
            "/usr/local/lib/python3.10/dist-packages/sklearn/metrics/_classification.py:1344: UndefinedMetricWarning: Precision and F-score are ill-defined and being set to 0.0 due to no predicted samples. Use `zero_division` parameter to control this behavior.\n",
            "  _warn_prf(average, modifier, msg_start, len(result))\n",
            " Epoch [40/40] train loss: 0.3585, test loss: 0.2585, accuracy: 1.0000, aug score: 1.0000, precision: 1.0000, recall: 1.0000, fscore: 1.0000 \n",
            " Optimal accuracy: 1.0000 \n",
            "Start 10-fold cross validation: fold 3 \n",
            " Epoch [40/40] train loss: 0.3036, test loss: 0.3506, accuracy: 1.0000, aug score: 1.0000, precision: 1.0000, recall: 1.0000, fscore: 1.0000 \n",
            " Optimal accuracy: 1.0000 \n",
            "Start 10-fold cross validation: fold 4 \n",
            " Epoch [40/40] train loss: 0.3154, test loss: 0.7161, accuracy: 0.7778, aug score: 0.7500, precision: 0.7500, recall: 0.7500, fscore: 0.7500 \n",
            " Optimal accuracy: 0.8889 \n",
            "Start 10-fold cross validation: fold 5 \n",
            " Epoch [40/40] train loss: 0.3901, test loss: 0.3291, accuracy: 0.8889, aug score: 0.9500, precision: 1.0000, recall: 0.8000, fscore: 0.8889 \n",
            " Optimal accuracy: 0.8889 \n",
            "Start 10-fold cross validation: fold 6 \n",
            " Epoch [40/40] train loss: 0.3322, test loss: 0.4214, accuracy: 1.0000, aug score: 1.0000, precision: 1.0000, recall: 1.0000, fscore: 1.0000 \n",
            " Optimal accuracy: 1.0000 \n",
            "Start 10-fold cross validation: fold 7 \n",
            " Epoch [40/40] train loss: 0.3930, test loss: 0.4912, accuracy: 1.0000, aug score: 1.0000, precision: 1.0000, recall: 1.0000, fscore: 1.0000 \n",
            " Optimal accuracy: 1.0000 \n",
            "Start 10-fold cross validation: fold 8 \n",
            " Epoch [40/40] train loss: 0.3780, test loss: 0.3147, accuracy: 0.8889, aug score: 0.9500, precision: 1.0000, recall: 0.8000, fscore: 0.8889 \n",
            " Optimal accuracy: 0.8889 \n",
            "Start 10-fold cross validation: fold 9 \n",
            " Epoch [40/40] train loss: 0.3328, test loss: 0.3684, accuracy: 0.8889, aug score: 0.9500, precision: 1.0000, recall: 0.8000, fscore: 0.8889 \n",
            " Optimal accuracy: 1.0000 \n",
            "Cross validation accuracy mean: 0.9444, std 0.0556 \n"
          ]
        }
      ]
    },
    {
      "cell_type": "code",
      "source": [
        "! python dsmil-wsi/train_mil.py"
      ],
      "metadata": {
        "id": "0puRYvCvSPbw"
      },
      "execution_count": null,
      "outputs": []
    }
  ]
}